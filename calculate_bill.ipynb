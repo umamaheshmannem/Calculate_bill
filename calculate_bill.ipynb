print("Welcome to the tip calculator!")
bill = float(input("What was the total bill $"))
tip = int(input("What percentage tipo would you like to give? 10,12,15"))
people = int(input("How many people to split the bill? "))
bill_with_tip = tip / 100 * bill +bill
total_bill =  bill_with_tip
print(total_bill)
total_amount = total_bill/ people
print(total_amount)
final_amount = round(total_amount,0)
print(f"Each person can pay $  {final_amount}")